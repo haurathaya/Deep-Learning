{
 "metadata": {
  "language_info": {
   "codemirror_mode": {
    "name": "ipython",
    "version": 3
   },
   "file_extension": ".py",
   "mimetype": "text/x-python",
   "name": "python",
   "nbconvert_exporter": "python",
   "pygments_lexer": "ipython3",
   "version": "3.8.3-final"
  },
  "orig_nbformat": 2,
  "kernelspec": {
   "name": "python38232bit4a8b71824c5e415498cad32dada6597f",
   "display_name": "Python 3.8.2 32-bit",
   "language": "python"
  }
 },
 "nbformat": 4,
 "nbformat_minor": 2,
 "cells": [
  {
   "cell_type": "code",
   "execution_count": 1,
   "metadata": {},
   "outputs": [],
   "source": [
    "import pandas as pd\n",
    "import numpy as np\n",
    "import math"
   ]
  },
  {
   "cell_type": "code",
   "execution_count": 2,
   "metadata": {},
   "outputs": [
    {
     "output_type": "stream",
     "name": "stdout",
     "text": [
      "     Pregnancies  Glucose  BloodPressure  SkinThickness  Insulin   BMI  \\\n0              6      148             72             35        0  33.6   \n1              1       85             66             29        0  26.6   \n2              8      183             64              0        0  23.3   \n3              1       89             66             23       94  28.1   \n4              0      137             40             35      168  43.1   \n..           ...      ...            ...            ...      ...   ...   \n763           10      101             76             48      180  32.9   \n764            2      122             70             27        0  36.8   \n765            5      121             72             23      112  26.2   \n766            1      126             60              0        0  30.1   \n767            1       93             70             31        0  30.4   \n\n     DiabetesPedigreeFunction  Age  Outcome  \n0                       0.627   50        1  \n1                       0.351   31        0  \n2                       0.672   32        1  \n3                       0.167   21        0  \n4                       2.288   33        1  \n..                        ...  ...      ...  \n763                     0.171   63        0  \n764                     0.340   27        0  \n765                     0.245   30        0  \n766                     0.349   47        1  \n767                     0.315   23        0  \n\n[768 rows x 9 columns]\n"
     ]
    }
   ],
   "source": [
    "# membaca file Diabetes.csv\n",
    "\n",
    "data = pd.read_csv(\"Diabetes.csv\", sep = ',')\n",
    "print(data)"
   ]
  },
  {
   "cell_type": "code",
   "execution_count": 3,
   "metadata": {},
   "outputs": [
    {
     "output_type": "stream",
     "name": "stdout",
     "text": [
      "     Pregnancies  Glucose  BloodPressure  SkinThickness  Insulin   BMI  \\\n0              6    148.0           72.0           35.0    155.0  33.6   \n1              1     85.0           66.0           29.0    155.0  26.6   \n2              8    183.0           64.0           29.0    155.0  23.3   \n3              1     89.0           66.0           23.0     94.0  28.1   \n4              0    137.0           40.0           35.0    168.0  43.1   \n..           ...      ...            ...            ...      ...   ...   \n763           10    101.0           76.0           48.0    180.0  32.9   \n764            2    122.0           70.0           27.0    155.0  36.8   \n765            5    121.0           72.0           23.0    112.0  26.2   \n766            1    126.0           60.0           29.0    155.0  30.1   \n767            1     93.0           70.0           31.0    155.0  30.4   \n\n     DiabetesPedigreeFunction  Age  Outcome  \n0                       0.627   50        1  \n1                       0.351   31        0  \n2                       0.672   32        1  \n3                       0.167   21        0  \n4                       2.288   33        1  \n..                        ...  ...      ...  \n763                     0.171   63        0  \n764                     0.340   27        0  \n765                     0.245   30        0  \n766                     0.349   47        1  \n767                     0.315   23        0  \n\n[768 rows x 9 columns]\n"
     ]
    }
   ],
   "source": [
    "# mengganti nilai null dengan mean\n",
    "zero_not_accepted = ['Glucose', 'BloodPressure', 'SkinThickness', 'Insulin', 'BMI']\n",
    "\n",
    "for col in zero_not_accepted:\n",
    "    data[col]= data[col].replace(0, np.NaN)\n",
    "    mean = int(data[col].mean(skipna=True))\n",
    "    data[col] = data[col].replace(np.NaN,mean)\n",
    "\n",
    "print(data)"
   ]
  },
  {
   "cell_type": "code",
   "execution_count": 4,
   "metadata": {},
   "outputs": [],
   "source": [
    "# scalling\n",
    "\n",
    "data = (data-data.min())/(data.max()-data.min())"
   ]
  },
  {
   "cell_type": "code",
   "execution_count": 5,
   "metadata": {},
   "outputs": [
    {
     "output_type": "execute_result",
     "data": {
      "text/plain": [
       "       Pregnancies     Glucose  BloodPressure  SkinThickness     Insulin  \\\n",
       "count   768.000000  768.000000     768.000000     768.000000  768.000000   \n",
       "mean      0.226180    0.501176       0.493742       0.240305    0.169809   \n",
       "std       0.198210    0.196361       0.123435       0.095557    0.102189   \n",
       "min       0.000000    0.000000       0.000000       0.000000    0.000000   \n",
       "25%       0.058824    0.359677       0.408163       0.195652    0.129207   \n",
       "50%       0.176471    0.470968       0.489796       0.239130    0.169471   \n",
       "75%       0.352941    0.620968       0.571429       0.271739    0.169471   \n",
       "max       1.000000    1.000000       1.000000       1.000000    1.000000   \n",
       "\n",
       "              BMI  DiabetesPedigreeFunction         Age     Outcome  \n",
       "count  768.000000                768.000000  768.000000  768.000000  \n",
       "mean     0.291430                  0.168179    0.204015    0.348958  \n",
       "std      0.140601                  0.141473    0.196004    0.476951  \n",
       "min      0.000000                  0.000000    0.000000    0.000000  \n",
       "25%      0.190184                  0.070773    0.050000    0.000000  \n",
       "50%      0.282209                  0.125747    0.133333    0.000000  \n",
       "75%      0.376278                  0.234095    0.333333    1.000000  \n",
       "max      1.000000                  1.000000    1.000000    1.000000  "
      ],
      "text/html": "<div>\n<style scoped>\n    .dataframe tbody tr th:only-of-type {\n        vertical-align: middle;\n    }\n\n    .dataframe tbody tr th {\n        vertical-align: top;\n    }\n\n    .dataframe thead th {\n        text-align: right;\n    }\n</style>\n<table border=\"1\" class=\"dataframe\">\n  <thead>\n    <tr style=\"text-align: right;\">\n      <th></th>\n      <th>Pregnancies</th>\n      <th>Glucose</th>\n      <th>BloodPressure</th>\n      <th>SkinThickness</th>\n      <th>Insulin</th>\n      <th>BMI</th>\n      <th>DiabetesPedigreeFunction</th>\n      <th>Age</th>\n      <th>Outcome</th>\n    </tr>\n  </thead>\n  <tbody>\n    <tr>\n      <th>count</th>\n      <td>768.000000</td>\n      <td>768.000000</td>\n      <td>768.000000</td>\n      <td>768.000000</td>\n      <td>768.000000</td>\n      <td>768.000000</td>\n      <td>768.000000</td>\n      <td>768.000000</td>\n      <td>768.000000</td>\n    </tr>\n    <tr>\n      <th>mean</th>\n      <td>0.226180</td>\n      <td>0.501176</td>\n      <td>0.493742</td>\n      <td>0.240305</td>\n      <td>0.169809</td>\n      <td>0.291430</td>\n      <td>0.168179</td>\n      <td>0.204015</td>\n      <td>0.348958</td>\n    </tr>\n    <tr>\n      <th>std</th>\n      <td>0.198210</td>\n      <td>0.196361</td>\n      <td>0.123435</td>\n      <td>0.095557</td>\n      <td>0.102189</td>\n      <td>0.140601</td>\n      <td>0.141473</td>\n      <td>0.196004</td>\n      <td>0.476951</td>\n    </tr>\n    <tr>\n      <th>min</th>\n      <td>0.000000</td>\n      <td>0.000000</td>\n      <td>0.000000</td>\n      <td>0.000000</td>\n      <td>0.000000</td>\n      <td>0.000000</td>\n      <td>0.000000</td>\n      <td>0.000000</td>\n      <td>0.000000</td>\n    </tr>\n    <tr>\n      <th>25%</th>\n      <td>0.058824</td>\n      <td>0.359677</td>\n      <td>0.408163</td>\n      <td>0.195652</td>\n      <td>0.129207</td>\n      <td>0.190184</td>\n      <td>0.070773</td>\n      <td>0.050000</td>\n      <td>0.000000</td>\n    </tr>\n    <tr>\n      <th>50%</th>\n      <td>0.176471</td>\n      <td>0.470968</td>\n      <td>0.489796</td>\n      <td>0.239130</td>\n      <td>0.169471</td>\n      <td>0.282209</td>\n      <td>0.125747</td>\n      <td>0.133333</td>\n      <td>0.000000</td>\n    </tr>\n    <tr>\n      <th>75%</th>\n      <td>0.352941</td>\n      <td>0.620968</td>\n      <td>0.571429</td>\n      <td>0.271739</td>\n      <td>0.169471</td>\n      <td>0.376278</td>\n      <td>0.234095</td>\n      <td>0.333333</td>\n      <td>1.000000</td>\n    </tr>\n    <tr>\n      <th>max</th>\n      <td>1.000000</td>\n      <td>1.000000</td>\n      <td>1.000000</td>\n      <td>1.000000</td>\n      <td>1.000000</td>\n      <td>1.000000</td>\n      <td>1.000000</td>\n      <td>1.000000</td>\n      <td>1.000000</td>\n    </tr>\n  </tbody>\n</table>\n</div>"
     },
     "metadata": {},
     "execution_count": 5
    }
   ],
   "source": [
    "# prapemrosesan data\n",
    "\n",
    "xdata = (data.iloc[:,:8]).values\n",
    "ydata = (data.iloc[:, 8:]).values\n",
    "data.describe()"
   ]
  },
  {
   "cell_type": "code",
   "execution_count": 6,
   "metadata": {},
   "outputs": [],
   "source": [
    "# perhitungan jarak: menggunakan Euclidean Distance\n",
    "\n",
    "def euclideanDistance(test, train):\n",
    "    result = ((test[0] - train[0])**2) + ((test[1] - train[1])**2) + ((test[2] - train[2])**2) + ((test[3] - train[3])**2) + ((test[4] - train[4])**2) + ((test[5] - train[5])**2) + ((test[6] - train[6])**2) + ((test[7] - train[7])**2)\n",
    "    return math.sqrt(result)"
   ]
  },
  {
   "cell_type": "code",
   "execution_count": 7,
   "metadata": {},
   "outputs": [],
   "source": [
    "# split data training set\n",
    "\n",
    "train1 = data.iloc[0:614, :8]\n",
    "train2 = data.iloc[0:461, :8].append(data.iloc[614:, :8])\n",
    "train3 = data.iloc[0:307, :8].append(data.iloc[461:, :8])\n",
    "train4 = data.iloc[0:154, :8].append(data.iloc[307:, :8])\n",
    "train5 = data.iloc[154:, :8]\n",
    "\n",
    "train1 = train1.values\n",
    "train2 = train2.values\n",
    "train3 = train3.values\n",
    "train4 = train4.values\n",
    "train5 = train5.values"
   ]
  },
  {
   "cell_type": "code",
   "execution_count": 8,
   "metadata": {},
   "outputs": [],
   "source": [
    "# label untuk training set\n",
    "\n",
    "y_train1 = data.iloc[0:614, 8:]\n",
    "y_train2 = data.iloc[0:461, 8:].append(data.iloc[614:, 8:])\n",
    "y_train3 = data.iloc[0:307, 8:].append(data.iloc[461:, 8:])\n",
    "y_train4 = data.iloc[0:154, 8:].append(data.iloc[307:, 8:])\n",
    "y_train5 = data.iloc[154:, 8:]\n",
    "\n",
    "y_train1 = y_train1.values\n",
    "y_train2 = y_train2.values\n",
    "y_train3 = y_train3.values\n",
    "y_train4 = y_train4.values\n",
    "y_train5 = y_train5.values"
   ]
  },
  {
   "cell_type": "code",
   "execution_count": 9,
   "metadata": {},
   "outputs": [],
   "source": [
    "# split data testing set\n",
    "\n",
    "test1 = data.iloc[614:, :8]\n",
    "test2 = data.iloc[461:614, :8]\n",
    "test3 = data.iloc[307:461, :8]\n",
    "test4 = data.iloc[154:307, :8]\n",
    "test5 = data.iloc[0:154, :8]\n",
    "\n",
    "test1 = test1.values\n",
    "test2 = test2.values\n",
    "test3 = test3.values\n",
    "test4 = test4.values\n",
    "test5 = test5.values"
   ]
  },
  {
   "cell_type": "code",
   "execution_count": 10,
   "metadata": {},
   "outputs": [],
   "source": [
    "# label untuk testing set\n",
    "\n",
    "y_test1 = data.iloc[614:, 8:]\n",
    "y_test2 = data.iloc[461:614, 8:]\n",
    "y_test3 = data.iloc[307:461, 8:]\n",
    "y_test4 = data.iloc[154:307, 8:]\n",
    "y_test5 = data.iloc[0:154, 8:]\n",
    "\n",
    "y_test1 = y_test1.values\n",
    "y_test2 = y_test2.values\n",
    "y_test3 = y_test3.values\n",
    "y_test4 = y_test4.values\n",
    "y_test5 = y_test5.values"
   ]
  },
  {
   "cell_type": "code",
   "execution_count": 11,
   "metadata": {},
   "outputs": [],
   "source": [
    "# klasifikasi knn\n",
    "\n",
    "def funcKNN(k, train, test, y_train):\n",
    "    list_pred = []\n",
    "    for x in range (0, len(test)):\n",
    "        distances = []\n",
    "        for y in range (0, len(train)):\n",
    "            distances.append([euclideanDistance(test[x], train[y]), y_train[y]])\n",
    "        sortDistances = sorted(distances)\n",
    "        for y in range (0, k):\n",
    "            no = 0\n",
    "            yes = 0\n",
    "            if sortDistances[y][1] == 0:\n",
    "                no += 1\n",
    "            elif sortDistances[y][1] == 1:\n",
    "                yes += 1\n",
    "        if yes > no:\n",
    "            list_pred.append(1)\n",
    "        else:\n",
    "            list_pred.append(0)\n",
    "    return list_pred"
   ]
  },
  {
   "cell_type": "code",
   "execution_count": 12,
   "metadata": {},
   "outputs": [
    {
     "output_type": "stream",
     "name": "stdout",
     "text": [
      "[0, 0, 1, 0, 1, 0, 0, 0, 1, 0, 0, 0, 0, 0, 0, 0, 1, 0, 0, 0, 1, 0, 1, 1, 1, 0, 0, 1, 1, 1, 0, 0, 1, 1, 0, 0, 0, 0, 0, 0, 0, 1, 0, 1, 0, 0, 0, 1, 1, 1, 0, 1, 1, 0, 0, 1, 1, 0, 1, 0, 0, 1, 0, 0, 0, 0, 0, 1, 0, 0, 1, 0, 1, 0, 0, 0, 0, 1, 0, 1, 0, 0, 0, 0, 0, 0, 0, 1, 1, 1, 0, 0, 0, 0, 1, 0, 0, 0, 1, 0, 0, 1, 0, 0, 0, 1, 0, 1, 1, 0, 1, 0, 0, 0, 0, 0, 0, 0, 1, 0, 0, 0, 1, 0, 0, 1, 1, 0, 0, 1, 1, 0, 0, 0, 1, 1, 1, 0, 0, 1, 1, 0, 0, 1, 0, 0, 0, 1, 0, 0, 0, 0, 1, 0]\n[0, 0, 0, 1, 0, 0, 1, 1, 1, 0, 1, 0, 1, 0, 1, 0, 1, 0, 0, 1, 0, 1, 0, 0, 1, 0, 0, 0, 0, 0, 0, 0, 1, 0, 0, 1, 0, 1, 1, 0, 1, 1, 0, 0, 0, 1, 0, 0, 0, 1, 0, 0, 0, 0, 1, 1, 0, 0, 0, 0, 0, 0, 0, 0, 0, 0, 0, 0, 0, 0, 0, 0, 0, 1, 1, 1, 0, 0, 1, 1, 0, 1, 0, 0, 1, 1, 0, 1, 0, 1, 0, 1, 0, 1, 0, 0, 0, 0, 0, 1, 1, 0, 0, 0, 0, 0, 1, 0, 0, 0, 0, 0, 0, 1, 0, 0, 0, 0, 1, 0, 1, 0, 1, 0, 0, 1, 0, 1, 0, 1, 0, 1, 1, 1, 0, 0, 0, 1, 0, 0, 0, 1, 1, 1, 0, 1, 0, 1, 0, 0, 1, 1, 1]\n[0, 0, 0, 0, 0, 1, 0, 1, 0, 0, 0, 0, 1, 0, 0, 0, 1, 1, 0, 0, 1, 0, 0, 1, 0, 1, 0, 0, 0, 0, 1, 0, 1, 0, 0, 0, 0, 1, 1, 0, 0, 0, 0, 0, 1, 0, 0, 0, 0, 0, 0, 1, 1, 0, 1, 1, 1, 0, 0, 1, 0, 0, 0, 1, 0, 0, 0, 1, 0, 0, 0, 0, 0, 0, 0, 0, 0, 0, 0, 1, 0, 1, 0, 0, 1, 0, 0, 1, 0, 0, 0, 0, 0, 0, 0, 0, 0, 0, 0, 0, 0, 0, 1, 0, 1, 1, 0, 0, 0, 0, 0, 0, 0, 0, 1, 0, 0, 1, 1, 0, 1, 0, 0, 0, 0, 0, 0, 0, 0, 1, 1, 0, 0, 1, 0, 0, 0, 0, 1, 0, 0, 0, 0, 0, 0, 0, 0, 0, 0, 1, 0, 1, 0, 1]\n[1, 1, 0, 0, 0, 1, 0, 0, 0, 0, 1, 0, 1, 0, 1, 0, 1, 1, 0, 0, 0, 1, 1, 1, 1, 1, 0, 0, 0, 0, 1, 1, 1, 0, 0, 0, 0, 1, 1, 1, 1, 1, 0, 0, 0, 0, 0, 0, 0, 0, 0, 0, 1, 1, 0, 0, 0, 0, 0, 0, 1, 0, 1, 1, 0, 1, 1, 1, 0, 0, 0, 0, 0, 0, 1, 1, 1, 0, 0, 1, 0, 1, 1, 1, 1, 0, 0, 0, 0, 0, 0, 0, 0, 1, 0, 0, 1, 1, 0, 0, 1, 0, 0, 1, 1, 1, 0, 1, 0, 0, 0, 0, 1, 0, 0, 0, 0, 0, 0, 1, 1, 0, 1, 0, 1, 0, 1, 1, 1, 1, 1, 1, 1, 0, 0, 0, 0, 0, 0, 0, 0, 1, 1, 1, 0, 0, 0, 0, 0, 1, 0, 0, 1]\n[1, 0, 1, 0, 1, 0, 0, 1, 1, 1, 0, 1, 1, 0, 1, 0, 0, 1, 0, 1, 1, 0, 1, 0, 0, 1, 1, 0, 1, 0, 0, 0, 0, 0, 0, 0, 1, 0, 0, 1, 1, 1, 0, 0, 1, 1, 1, 0, 0, 0, 0, 0, 0, 0, 0, 0, 1, 0, 0, 0, 0, 0, 0, 0, 0, 0, 1, 0, 0, 1, 0, 0, 1, 0, 0, 0, 0, 1, 1, 0, 0, 0, 0, 0, 0, 0, 1, 0, 0, 0, 0, 1, 0, 1, 1, 1, 0, 0, 0, 0, 1, 0, 0, 0, 0, 1, 0, 1, 0, 0, 0, 1, 0, 0, 1, 0, 0, 0, 0, 0, 1, 0, 0, 0, 0, 0, 0, 1, 1, 1, 1, 1, 1, 0, 0, 1, 0, 0, 0, 1, 0, 0, 0, 0, 0, 0, 0, 1, 0, 0, 0, 0, 0, 0]\n"
     ]
    }
   ],
   "source": [
    "# mencari prediksi\n",
    "\n",
    "k = 7\n",
    "predict1 = funcKNN(k, train1, test1, y_train1)\n",
    "predict2 = funcKNN(k, train2, test2, y_train2)\n",
    "predict3 = funcKNN(k, train3, test3, y_train3)\n",
    "predict4 = funcKNN(k, train4, test4, y_train4)\n",
    "predict5 = funcKNN(k, train5, test5, y_train5)\n",
    "\n",
    "print(predict1)\n",
    "print(predict2)\n",
    "print(predict3)\n",
    "print(predict4)\n",
    "print(predict5)"
   ]
  },
  {
   "cell_type": "code",
   "execution_count": 13,
   "metadata": {},
   "outputs": [
    {
     "output_type": "stream",
     "name": "stdout",
     "text": [
      "NILAI K:  7\nRERATA NILAI AKURASI:  70.57550292844411\n"
     ]
    }
   ],
   "source": [
    "# MENEMUKAN NILAI AKURASI\n",
    "\n",
    "# mencari akurasi 1\n",
    "tmpsama1 = 0\n",
    "for i in range (len(predict1)):\n",
    "    if (predict1[i] == y_test1[i]):\n",
    "        tmpsama1 += 1\n",
    "akurasi1 = (tmpsama1/(len(predict1)))*100\n",
    "\n",
    "# mencari akurasi 2\n",
    "tmpsama2 = 0\n",
    "for i in range (len(predict2)):\n",
    "    if (predict2[i] == y_test2[i]):\n",
    "        tmpsama2 += 1\n",
    "akurasi2 = (tmpsama2/(len(predict2)))*100\n",
    "\n",
    "# mencari akurasi 3\n",
    "tmpsama3 = 0\n",
    "for i in range (len(predict3)):\n",
    "    if (predict3[i] == y_test3[i]):\n",
    "        tmpsama3 += 1\n",
    "akurasi3 = (tmpsama3/(len(predict3)))*100\n",
    "\n",
    "# mencari akurasi 4\n",
    "tmpsama4 = 0\n",
    "for i in range (len(predict4)):\n",
    "    if (predict4[i] == y_test4[i]):\n",
    "        tmpsama4 += 1\n",
    "akurasi4 = (tmpsama4/(len(predict4)))*100\n",
    "\n",
    "# mencari akurasi 5\n",
    "tmpsama5 = 0\n",
    "for i in range (len(predict5)):\n",
    "    if (predict5[i] == y_test5[i]):\n",
    "        tmpsama5 += 1\n",
    "akurasi5 = (tmpsama5/(len(predict5)))*100\n",
    "\n",
    "# mencari total akurasi\n",
    "\n",
    "rerataAkurasi = (akurasi1+akurasi2+akurasi3+akurasi4+akurasi5)/5\n",
    "print(\"NILAI K: \", k)\n",
    "print(\"RERATA NILAI AKURASI: \", rerataAkurasi)"
   ]
  }
 ]
}